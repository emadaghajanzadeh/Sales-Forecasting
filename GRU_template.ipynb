{
  "nbformat": 4,
  "nbformat_minor": 0,
  "metadata": {
    "colab": {
      "provenance": [],
      "collapsed_sections": [],
      "toc_visible": true,
      "include_colab_link": true
    },
    "kernelspec": {
      "display_name": "Python 3",
      "language": "python",
      "name": "python3"
    },
    "language_info": {
      "codemirror_mode": {
        "name": "ipython",
        "version": 3
      },
      "file_extension": ".py",
      "mimetype": "text/x-python",
      "name": "python",
      "nbconvert_exporter": "python",
      "pygments_lexer": "ipython3",
      "version": "3.7.4"
    },
    "accelerator": "GPU"
  },
  "cells": [
    {
      "cell_type": "markdown",
      "metadata": {
        "id": "view-in-github",
        "colab_type": "text"
      },
      "source": [
        "<a href=\"https://colab.research.google.com/github/emadaghajanzadeh/Sales_Forecasting_RNN/blob/main/GRU_template.ipynb\" target=\"_parent\"><img src=\"https://colab.research.google.com/assets/colab-badge.svg\" alt=\"Open In Colab\"/></a>"
      ]
    },
    {
      "cell_type": "markdown",
      "metadata": {
        "id": "ypY1DFlzjClg"
      },
      "source": [
        "## Recurrent Neural Networks\n"
      ]
    },
    {
      "cell_type": "markdown",
      "metadata": {
        "id": "YC4Wq05tjClj"
      },
      "source": [
        "# GRU on a Time Series\n",
        "\n",
        "\n",
        "Data source: https://fred.stlouisfed.org/series/S4248SM144NCEN"
      ]
    },
    {
      "cell_type": "markdown",
      "metadata": {
        "id": "UdCwSYw2jCll"
      },
      "source": [
        "## Perform standard imports"
      ]
    },
    {
      "cell_type": "code",
      "metadata": {
        "id": "dGiMiA3djCln"
      },
      "source": [
        "#1\n",
        "# $$$ imports\n",
        "import torch\n",
        "import torch.nn as nn\n",
        "\n",
        "import numpy as np\n",
        "import pandas as pd\n",
        "import matplotlib.pyplot as plt\n",
        "%matplotlib inline\n",
        "\n",
        "\n",
        "# This relates to plotting datetime values with matplotlib:\n",
        "from pandas.plotting import register_matplotlib_converters\n",
        "register_matplotlib_converters()\n"
      ],
      "execution_count": null,
      "outputs": []
    },
    {
      "cell_type": "markdown",
      "metadata": {
        "id": "5lV1yebGjClo"
      },
      "source": [
        "## Load the dataset\n",
        "We'll take advantage of pandas' built-in <a href='https://pandas.pydata.org/pandas-docs/stable/timeseries.html'>DatetimeIndex</a> by passing <tt>parse_dates=True</tt>"
      ]
    },
    {
      "cell_type": "code",
      "metadata": {
        "colab": {
          "base_uri": "https://localhost:8080/",
          "height": 455
        },
        "id": "AiY6n0m8jClo",
        "outputId": "7f12d5e3-d3f1-44ed-8269-08cd69363fe6"
      },
      "source": [
        "#2\n",
        "# $$$ read csv\n",
        "df = pd.read_csv('./A_Sales.csv',index_col=0 ,parse_dates=True)\n",
        "df"
      ],
      "execution_count": null,
      "outputs": [
        {
          "output_type": "execute_result",
          "data": {
            "text/html": [
              "<div>\n",
              "<style scoped>\n",
              "    .dataframe tbody tr th:only-of-type {\n",
              "        vertical-align: middle;\n",
              "    }\n",
              "\n",
              "    .dataframe tbody tr th {\n",
              "        vertical-align: top;\n",
              "    }\n",
              "\n",
              "    .dataframe thead th {\n",
              "        text-align: right;\n",
              "    }\n",
              "</style>\n",
              "<table border=\"1\" class=\"dataframe\">\n",
              "  <thead>\n",
              "    <tr style=\"text-align: right;\">\n",
              "      <th></th>\n",
              "      <th>S4248SM144NCEN</th>\n",
              "    </tr>\n",
              "    <tr>\n",
              "      <th>DATE</th>\n",
              "      <th></th>\n",
              "    </tr>\n",
              "  </thead>\n",
              "  <tbody>\n",
              "    <tr>\n",
              "      <th>1992-01-01</th>\n",
              "      <td>3459</td>\n",
              "    </tr>\n",
              "    <tr>\n",
              "      <th>1992-02-01</th>\n",
              "      <td>3458</td>\n",
              "    </tr>\n",
              "    <tr>\n",
              "      <th>1992-03-01</th>\n",
              "      <td>4002</td>\n",
              "    </tr>\n",
              "    <tr>\n",
              "      <th>1992-04-01</th>\n",
              "      <td>4564</td>\n",
              "    </tr>\n",
              "    <tr>\n",
              "      <th>1992-05-01</th>\n",
              "      <td>4221</td>\n",
              "    </tr>\n",
              "    <tr>\n",
              "      <th>...</th>\n",
              "      <td>...</td>\n",
              "    </tr>\n",
              "    <tr>\n",
              "      <th>2018-09-01</th>\n",
              "      <td>12396</td>\n",
              "    </tr>\n",
              "    <tr>\n",
              "      <th>2018-10-01</th>\n",
              "      <td>13914</td>\n",
              "    </tr>\n",
              "    <tr>\n",
              "      <th>2018-11-01</th>\n",
              "      <td>14174</td>\n",
              "    </tr>\n",
              "    <tr>\n",
              "      <th>2018-12-01</th>\n",
              "      <td>15504</td>\n",
              "    </tr>\n",
              "    <tr>\n",
              "      <th>2019-01-01</th>\n",
              "      <td>10718</td>\n",
              "    </tr>\n",
              "  </tbody>\n",
              "</table>\n",
              "<p>325 rows × 1 columns</p>\n",
              "</div>"
            ],
            "text/plain": [
              "            S4248SM144NCEN\n",
              "DATE                      \n",
              "1992-01-01            3459\n",
              "1992-02-01            3458\n",
              "1992-03-01            4002\n",
              "1992-04-01            4564\n",
              "1992-05-01            4221\n",
              "...                    ...\n",
              "2018-09-01           12396\n",
              "2018-10-01           13914\n",
              "2018-11-01           14174\n",
              "2018-12-01           15504\n",
              "2019-01-01           10718\n",
              "\n",
              "[325 rows x 1 columns]"
            ]
          },
          "metadata": {
            "tags": []
          },
          "execution_count": 2
        }
      ]
    },
    {
      "cell_type": "code",
      "metadata": {
        "colab": {
          "base_uri": "https://localhost:8080/",
          "height": 455
        },
        "id": "aCjDwCs5jClp",
        "outputId": "5b620eff-9c8f-459d-cf80-caa7afc85632"
      },
      "source": [
        "#3\n",
        "# $$$ drop unreadable values with df.dropna\n",
        "# Always a good idea with time series data:\n",
        "df = df.dropna()\n",
        "df"
      ],
      "execution_count": null,
      "outputs": [
        {
          "output_type": "execute_result",
          "data": {
            "text/html": [
              "<div>\n",
              "<style scoped>\n",
              "    .dataframe tbody tr th:only-of-type {\n",
              "        vertical-align: middle;\n",
              "    }\n",
              "\n",
              "    .dataframe tbody tr th {\n",
              "        vertical-align: top;\n",
              "    }\n",
              "\n",
              "    .dataframe thead th {\n",
              "        text-align: right;\n",
              "    }\n",
              "</style>\n",
              "<table border=\"1\" class=\"dataframe\">\n",
              "  <thead>\n",
              "    <tr style=\"text-align: right;\">\n",
              "      <th></th>\n",
              "      <th>S4248SM144NCEN</th>\n",
              "    </tr>\n",
              "    <tr>\n",
              "      <th>DATE</th>\n",
              "      <th></th>\n",
              "    </tr>\n",
              "  </thead>\n",
              "  <tbody>\n",
              "    <tr>\n",
              "      <th>1992-01-01</th>\n",
              "      <td>3459</td>\n",
              "    </tr>\n",
              "    <tr>\n",
              "      <th>1992-02-01</th>\n",
              "      <td>3458</td>\n",
              "    </tr>\n",
              "    <tr>\n",
              "      <th>1992-03-01</th>\n",
              "      <td>4002</td>\n",
              "    </tr>\n",
              "    <tr>\n",
              "      <th>1992-04-01</th>\n",
              "      <td>4564</td>\n",
              "    </tr>\n",
              "    <tr>\n",
              "      <th>1992-05-01</th>\n",
              "      <td>4221</td>\n",
              "    </tr>\n",
              "    <tr>\n",
              "      <th>...</th>\n",
              "      <td>...</td>\n",
              "    </tr>\n",
              "    <tr>\n",
              "      <th>2018-09-01</th>\n",
              "      <td>12396</td>\n",
              "    </tr>\n",
              "    <tr>\n",
              "      <th>2018-10-01</th>\n",
              "      <td>13914</td>\n",
              "    </tr>\n",
              "    <tr>\n",
              "      <th>2018-11-01</th>\n",
              "      <td>14174</td>\n",
              "    </tr>\n",
              "    <tr>\n",
              "      <th>2018-12-01</th>\n",
              "      <td>15504</td>\n",
              "    </tr>\n",
              "    <tr>\n",
              "      <th>2019-01-01</th>\n",
              "      <td>10718</td>\n",
              "    </tr>\n",
              "  </tbody>\n",
              "</table>\n",
              "<p>325 rows × 1 columns</p>\n",
              "</div>"
            ],
            "text/plain": [
              "            S4248SM144NCEN\n",
              "DATE                      \n",
              "1992-01-01            3459\n",
              "1992-02-01            3458\n",
              "1992-03-01            4002\n",
              "1992-04-01            4564\n",
              "1992-05-01            4221\n",
              "...                    ...\n",
              "2018-09-01           12396\n",
              "2018-10-01           13914\n",
              "2018-11-01           14174\n",
              "2018-12-01           15504\n",
              "2019-01-01           10718\n",
              "\n",
              "[325 rows x 1 columns]"
            ]
          },
          "metadata": {
            "tags": []
          },
          "execution_count": 3
        }
      ]
    },
    {
      "cell_type": "markdown",
      "metadata": {
        "id": "DSfc672HjClq"
      },
      "source": [
        "## Plotting time series data\n",
        "We can add titles, axis labels, and other features to the plot.<br>\n",
        "We're going to tighten the x-axis to fit the width of the actual data with <tt>plt.autoscale(axis='x',tight=True)</tt>.<br>\n",
        "Alternatively you could set your own limits with <tt>plt.xlim(pd.Timestamp('1992-01-01'), pd.Timestamp('2019-01-01'))</tt> or some other values."
      ]
    },
    {
      "cell_type": "code",
      "metadata": {
        "colab": {
          "base_uri": "https://localhost:8080/",
          "height": 281
        },
        "id": "aemAJeV6jClq",
        "outputId": "5fc0e7a7-a11a-4dd8-ea0b-2a3813a54069"
      },
      "source": [
        "#4\n",
        "# $$$ plot data\n",
        "plt.figure(figsize=(12,4))\n",
        "plt.title('A Sales')\n",
        "plt.ylabel('Sales (millions of dollars)')\n",
        "plt.grid(True)\n",
        "plt.autoscale(axis='x',tight=True)\n",
        "plt.plot(df['S4248SM144NCEN'])\n",
        "# plt.xlim(pd.Timestamp('1992-01-01'), pd.Timestamp('2019-01-01'))\n",
        "plt.show()"
      ],
      "execution_count": null,
      "outputs": [
        {
          "output_type": "display_data",
          "data": {
            "image/png": "[encoded data removed]",
            "text/plain": [
              "<Figure size 864x288 with 1 Axes>"
            ]
          },
          "metadata": {
            "tags": [],
            "needs_background": "light"
          }
        }
      ]
    },
    {
      "cell_type": "markdown",
      "metadata": {
        "id": "kOT1qgtmjCls"
      },
      "source": [
        "## Prepare the data\n",
        "In the next steps we'll divide the data into train/test sets, then normalize the training values so that they fall between -1 and 1 (to improve training). We'll train the model, then predict into a period that matches the test set. Finally, we'll forecast into an unknown future."
      ]
    },
    {
      "cell_type": "code",
      "metadata": {
        "colab": {
          "base_uri": "https://localhost:8080/"
        },
        "id": "ArZb2NrKjClt",
        "outputId": "11fa9934-04f9-4490-c680-62da2c569a54"
      },
      "source": [
        "#5\n",
        "# $$$ split train and test\n",
        "# Extract values from the source .csv file\n",
        "y = df['S4248SM144NCEN'].values.astype(float)\n",
        "test = y[-12:]\n",
        "train = y[:-12]\n",
        "# print(train)\n",
        "# print(test)\n"
      ],
      "execution_count": null,
      "outputs": [
        {
          "output_type": "stream",
          "text": [
            "[ 3459.  3458.  4002.  4564.  4221.  4529.  4466.  4137.  4126.  4259.\n",
            "  4240.  4936.  3031.  3261.  4160.  4377.  4307.  4696.  4458.  4457.\n",
            "  4364.  4236.  4500.  4974.  3075.  3377.  4443.  4261.  4460.  4985.\n",
            "  4324.  4719.  4374.  4248.  4784.  4971.  3370.  3484.  4269.  3994.\n",
            "  4715.  4974.  4223.  5000.  4235.  4554.  4851.  4826.  3699.  3983.\n",
            "  4262.  4619.  5219.  4836.  4941.  5062.  4365.  5012.  4850.  5097.\n",
            "  3758.  3825.  4454.  4635.  5210.  5057.  5231.  5034.  4970.  5342.\n",
            "  4831.  5965.  3796.  4019.  4898.  5090.  5237.  5447.  5435.  5107.\n",
            "  5515.  5583.  5346.  6286.  4032.  4435.  5479.  5483.  5587.  6176.\n",
            "  5621.  5889.  5828.  5849.  6180.  6771.  4243.  4952.  6008.  5353.\n",
            "  6435.  6673.  5636.  6630.  5887.  6322.  6520.  6678.  5082.  5216.\n",
            "  5893.  5894.  6799.  6667.  6374.  6840.  5575.  6545.  6789.  7180.\n",
            "  5117.  5442.  6337.  6525.  7216.  6761.  6958.  7070.  6148.  6924.\n",
            "  6716.  7975.  5326.  5609.  6414.  6741.  7144.  7133.  7568.  7266.\n",
            "  6634.  7626.  6843.  8540.  5629.  5898.  7045.  7094.  7333.  7918.\n",
            "  7289.  7396.  7259.  7268.  7731.  9058.  5557.  6237.  7723.  7262.\n",
            "  8241.  8757.  7352.  8496.  7741.  7710.  8247.  8902.  6066.  6590.\n",
            "  7923.  7335.  8843.  9327.  7792.  9156.  8037.  8640.  9128.  9545.\n",
            "  6627.  6743.  8195.  7828.  9570.  9484.  8608.  9543.  8123.  9649.\n",
            "  9390. 10065.  7093.  7483.  8365.  8895.  9794.  9977.  9553.  9375.\n",
            "  9225.  9948.  8758. 10839.  7266.  7578.  8688.  9162.  9369. 10167.\n",
            "  9507.  8923.  9272.  9075.  8949. 10843.  6558.  7481.  9475.  9424.\n",
            "  9351. 10552.  9077.  9273.  9420.  9413.  9866. 11455.  6901.  8014.\n",
            "  9832.  9281.  9967. 11344.  9106. 10469. 10085.  9612. 10328. 11483.\n",
            "  7486.  8641.  9709.  9423. 11342. 11274.  9845. 11163.  9532. 10754.\n",
            " 10953. 11922.  8395.  8888. 10110. 10493. 12218. 11385. 11186. 11462.\n",
            " 10494. 11540. 11138. 12709.  8557.  9059. 10055. 10977. 11792. 11904.\n",
            " 10965. 10981. 10828. 11817. 10470. 13310.  8400.  9062. 10722. 11107.\n",
            " 11508. 12904. 11869. 11224. 12022. 11983. 11506. 14183.  8648. 10321.\n",
            " 12107. 11420. 12238. 13681. 10950. 12700. 12272. 11905. 13016. 14421.\n",
            "  9043. 10452. 12481. 11491. 13545. 14730. 11416. 13402. 11907. 12711.\n",
            " 13261. 14265.  9564.]\n",
            "[10415. 12683. 11919. 14138. 14583. 12640. 14257. 12396. 13914. 14174.\n",
            " 15504. 10718.]\n"
          ],
          "name": "stdout"
        }
      ]
    },
    {
      "cell_type": "markdown",
      "metadata": {
        "id": "dskdnTF4jClv"
      },
      "source": [
        "It's worth noting that in our previous exercise the train and test sets were tensors. Here they're numpy arrays. This is because one of the steps we're about to perform outputs an array, and we'd have to turn it into a tensor anyway."
      ]
    },
    {
      "cell_type": "markdown",
      "metadata": {
        "id": "IOV3PqKXjClw"
      },
      "source": [
        "## Normalize the data\n",
        "The formula for normalizing data around zero is:<br>\n",
        "### $X_{norm} = \\frac{X - \\mu} {\\sigma}$\n",
        "where $\\mu$ is the population mean, and $\\sigma$ is the population standard deviation.<br>\n",
        "Recall that back in the CNN section we transformed image files using <a href='https://pytorch.org/docs/stable/torchvision/transforms.html#torchvision.transforms.Normalize'><tt><strong>torchvision.transforms.Normalize(<em>mean, std</em>)</strong></tt></a>, both because it was built into DataLoader, and because our pretrained models expected specific normalization values.<br>\n",
        "\n",
        "Ultimately we want to perform <a href='https://en.wikipedia.org/wiki/Feature_scaling'>min/max feature scaling</a> so that our values fall between -1 and 1, as this makes hyperparameters converge faster.<br>The formula for this would be:<br>\n",
        "### $X^{\\prime} = a + \\frac{(X - X_{min}) (b - a)} {X_{max} - X_{min}}$\n",
        "where $a={-1}$ and $b=1$<br>\n",
        "\n",
        "We can use scikit-learn to do this, with <a href='https://scikit-learn.org/stable/modules/generated/sklearn.preprocessing.MinMaxScaler.html'><tt><strong>sklearn.preprocessing.MinMaxScaler()</strong></tt></a>\n",
        "\n",
        "NOTE: We only want to normalize the training set to avoid data leakage. If we include the test set then the higher average values of the test set could become part of the signal in the training set. There's a good article on data leakage <a href='test_set = input_data(test_norm,window_size)'>here</a>.\n",
        "\n",
        "After using transformed data to train the model and generate predictions, we'll inverse_transform the predicted values so that we can compare them to the actual test data."
      ]
    },
    {
      "cell_type": "code",
      "metadata": {
        "id": "5o0vhK-5jClx"
      },
      "source": [
        "#6\n",
        "# $$$ scale data (-1 , 1)\n",
        "from sklearn.preprocessing import MinMaxScaler\n",
        "train = train.reshape(-1,1)\n",
        "scaler=MinMaxScaler(feature_range=(-1,1))\n",
        "train_norm=scaler.fit_transform(train)\n",
        "# y_train"
      ],
      "execution_count": null,
      "outputs": []
    },
    {
      "cell_type": "markdown",
      "metadata": {
        "id": "rtoJVLUJjClz"
      },
      "source": [
        "## Prepare data for GRU\n",
        "Here we'll create our list of (seq/label) tuples from the training set. Recall that an GRU consumes a window of samples toward the first prediction, so the size of our training set will become ((325 - test_size) - window_size)."
      ]
    },
    {
      "cell_type": "code",
      "metadata": {
        "colab": {
          "base_uri": "https://localhost:8080/"
        },
        "id": "KYGY9Os7jClz",
        "outputId": "b2e2271e-fd86-4a76-bde7-8f572895707d"
      },
      "source": [
        "#7\n",
        "# $$$ prepare data with input_data function (tuple)\n",
        "# Convert train_norm from an array to a tensor\n",
        "train_norm = torch.FloatTensor(train_norm).view(-1)\n",
        "\n",
        "# Define a window size\n",
        "window_size = 12\n",
        "\n",
        "# Define function to create seq/label tuples\n",
        "def input_data(seq,ws):  # ws is the window size\n",
        "    out = []\n",
        "    L = len(seq)\n",
        "    for i in range(L-ws):\n",
        "        window = seq[i:i+ws]\n",
        "        label = seq[i+ws:i+ws+1]\n",
        "        out.append((window,label))\n",
        "    return out\n",
        "\n",
        "# Apply the input_data function to train_norm\n",
        "train_data = input_data(train_norm,window_size)\n",
        "len(train_data)  # this should equal 325-12-12\n"
      ],
      "execution_count": null,
      "outputs": [
        {
          "output_type": "execute_result",
          "data": {
            "text/plain": [
              "301"
            ]
          },
          "metadata": {
            "tags": []
          },
          "execution_count": 7
        }
      ]
    },
    {
      "cell_type": "markdown",
      "metadata": {
        "id": "FNaebulkjClz"
      },
      "source": [
        "## Define the model\n",
        "This time we'll use an GRU layer of size (1,100)."
      ]
    },
    {
      "cell_type": "code",
      "metadata": {
        "id": "WV1mShShjCl0"
      },
      "source": [
        "#8\n",
        "# $$$ create GRU class\n",
        "# nn.GRU\n",
        "# nn.Linear\n",
        "\n",
        "\n",
        "class GRU(nn.Module):\n",
        "    def __init__(self, input_size=1, hidden_size=100, output_size=1):\n",
        "      super().__init__()\n",
        "      self.hidden_layer = (torch.zeros(hidden_size))\n",
        "      self.GRU_layer = nn.GRU(input_size,hidden_size)\n",
        "      self.FC = nn.Linear(hidden_size,output_size)\n",
        "      self.hidden_size = hidden_size\n",
        "      \n",
        "    def forward(self,data):\n",
        "      data = data.view(len(data),1,-1)\n",
        "      output, self.hidden_layer = self.GRU_layer(data, self.hidden_layer)\n",
        "      output = output.view(len(data),-1)\n",
        "      output = self.FC(output)\n",
        "      return output[-1]\n"
      ],
      "execution_count": null,
      "outputs": []
    },
    {
      "cell_type": "markdown",
      "metadata": {
        "id": "fp6zrJoxjCl1"
      },
      "source": [
        "## Instantiate the model, define loss and optimization functions"
      ]
    },
    {
      "cell_type": "code",
      "metadata": {
        "id": "RP29v9cCjCl1"
      },
      "source": [
        "#9\n",
        "# $$$ set seed, criterion, optimizer\n",
        "torch.manual_seed(101)\n",
        "model = GRU(1,100,1)\n",
        "criterion = nn.MSELoss()\n",
        "optimizer = torch.optim.Adam(model.parameters(), lr=0.001)\n",
        "\n"
      ],
      "execution_count": null,
      "outputs": []
    },
    {
      "cell_type": "markdown",
      "metadata": {
        "id": "gsjhYAmXjCl2"
      },
      "source": [
        "## Train the model"
      ]
    },
    {
      "cell_type": "code",
      "metadata": {
        "colab": {
          "base_uri": "https://localhost:8080/"
        },
        "id": "Pj-XAcJyjCl-",
        "outputId": "8e2bf6b3-4716-4669-e051-b7f115e8cc86"
      },
      "source": [
        "#10\n",
        "# $$$ train the model\n",
        "import time\n",
        "startTrain = time.time()\n",
        "epochs = 20\n",
        "\n",
        "for epoch in range(epochs):\n",
        "    for data, target in train_data:       \n",
        "        optimizer.zero_grad()\n",
        "        model.hidden_layer = (torch.zeros(1,1,model.hidden_size))\n",
        "        prediction = model(data)\n",
        "\n",
        "        loss = criterion(prediction, target)\n",
        "        loss.backward()\n",
        "        optimizer.step()\n",
        "        \n",
        "    print(f'epoch:{epoch+1:2}  Loss is: {loss.item():5.10f}')\n",
        "    \n",
        "print(f'\\nTrain Duration: {time.time() - startTrain:.5f} seconds')\n",
        "\n"
      ],
      "execution_count": null,
      "outputs": [
        {
          "output_type": "stream",
          "text": [
            "epoch: 1  Loss is: 0.3163814545\n",
            "epoch: 2  Loss is: 0.3656209707\n",
            "epoch: 3  Loss is: 0.3778117895\n",
            "epoch: 4  Loss is: 0.3536266685\n",
            "epoch: 5  Loss is: 0.3294491172\n",
            "epoch: 6  Loss is: 0.3452953398\n",
            "epoch: 7  Loss is: 0.2791855931\n",
            "epoch: 8  Loss is: 0.1304776520\n",
            "epoch: 9  Loss is: 0.0406643301\n",
            "epoch:10  Loss is: 0.0029299161\n",
            "epoch:11  Loss is: 0.0008059797\n",
            "epoch:12  Loss is: 0.0043481621\n",
            "epoch:13  Loss is: 0.0002977171\n",
            "epoch:14  Loss is: 0.0000113536\n",
            "epoch:15  Loss is: 0.0002035459\n",
            "epoch:16  Loss is: 0.0003980906\n",
            "epoch:17  Loss is: 0.0005083457\n",
            "epoch:18  Loss is: 0.0005187883\n",
            "epoch:19  Loss is: 0.0004380552\n",
            "epoch:20  Loss is: 0.0002943441\n",
            "\n",
            "Train Duration: 31.00935 seconds\n"
          ],
          "name": "stdout"
        }
      ]
    },
    {
      "cell_type": "markdown",
      "metadata": {
        "id": "30G6NZwxjCl-"
      },
      "source": [
        "## Run predictions and compare to known test set"
      ]
    },
    {
      "cell_type": "code",
      "metadata": {
        "id": "VulN7RfSjCl-"
      },
      "source": [
        "#11\n",
        "# $$$ predict test segment\n",
        "future = 12\n",
        "test_prediction = train_norm[-window_size:].tolist()\n",
        "model.eval()\n",
        "for i in range(future):\n",
        "    data = torch.FloatTensor(test_prediction[-window_size:])\n",
        "    with torch.no_grad():\n",
        "        test_prediction.append(model(data).item())\n"
      ],
      "execution_count": null,
      "outputs": []
    },
    {
      "cell_type": "markdown",
      "metadata": {
        "id": "M69-VzcOjCl_"
      },
      "source": [
        "## Invert the normalization\n",
        "We want to compare our test predictions to the original data, so we need to undo the previous normalization step. Note that <tt>inverse_transform</tt> uses the most recently applied parameters; we can rescale based on the test data, but not on the previous training data."
      ]
    },
    {
      "cell_type": "code",
      "metadata": {
        "id": "7NwR79prjCl_"
      },
      "source": [
        "#12\n",
        "# invert normalization to plot test\n",
        "true_predictions = scaler.inverse_transform(np.array(test_prediction).reshape(-1, 1))"
      ],
      "execution_count": null,
      "outputs": []
    },
    {
      "cell_type": "markdown",
      "metadata": {
        "id": "uya8GwdvjCmA"
      },
      "source": [
        "It looks like our predictions weren't that far off!\n",
        "## Plot the results\n",
        "Our original data contains a datetime index, but our predicted values do not. We can create a range of dates using NumPy that are spaced one month apart using <tt>dtype='datetime64[M]'</tt>, and then store them with day values to match our dataset with <tt>.astype('datetime64[D]')</tt>."
      ]
    },
    {
      "cell_type": "code",
      "metadata": {
        "id": "At86Cqw7jCmA",
        "colab": {
          "base_uri": "https://localhost:8080/"
        },
        "outputId": "7584ab77-9aef-4995-e4d9-3249c9a37e5e"
      },
      "source": [
        "# Remember that the stop date has to be later than the last predicted value.\n",
        "x = np.arange('2019-01-01', '2020-01-01', dtype='datetime64[M]').astype('datetime64[D]') \n",
        "x"
      ],
      "execution_count": null,
      "outputs": [
        {
          "output_type": "execute_result",
          "data": {
            "text/plain": [
              "array(['2019-01-01', '2019-02-01', '2019-03-01', '2019-04-01',\n",
              "       '2019-05-01', '2019-06-01', '2019-07-01', '2019-08-01',\n",
              "       '2019-09-01', '2019-10-01', '2019-11-01', '2019-12-01'],\n",
              "      dtype='datetime64[D]')"
            ]
          },
          "metadata": {
            "tags": []
          },
          "execution_count": 13
        }
      ]
    },
    {
      "cell_type": "code",
      "metadata": {
        "colab": {
          "base_uri": "https://localhost:8080/",
          "height": 281
        },
        "id": "PAgQ5DF9jCmA",
        "outputId": "faf05a42-edf6-4e8c-9b64-70edc5aaae66"
      },
      "source": [
        "plt.figure(figsize=(12,4))\n",
        "plt.title('A Sales')\n",
        "plt.ylabel('Sales (millions of dollars)')\n",
        "plt.grid(True)\n",
        "plt.autoscale(axis='x',tight=True)\n",
        "plt.plot(df['S4248SM144NCEN'])\n",
        "plt.plot(x,true_predictions[window_size:])\n",
        "plt.show()"
      ],
      "execution_count": null,
      "outputs": [
        {
          "output_type": "display_data",
          "data": {
            "image/png": "[encoded data removed]",
            "text/plain": [
              "<Figure size 864x288 with 1 Axes>"
            ]
          },
          "metadata": {
            "tags": [],
            "needs_background": "light"
          }
        }
      ]
    },
    {
      "cell_type": "code",
      "metadata": {
        "id": "cQKfAwLTjCmB",
        "colab": {
          "base_uri": "https://localhost:8080/",
          "height": 279
        },
        "outputId": "c5e4c1b2-0c7c-4963-b028-48206bd03059"
      },
      "source": [
        "# Plot the end of the graph\n",
        "fig = plt.figure(figsize=(12,4))\n",
        "plt.title('A Sales')\n",
        "plt.ylabel('Sales (millions of dollars)')\n",
        "plt.grid(True)\n",
        "plt.autoscale(axis='x',tight=True)\n",
        "fig.autofmt_xdate()\n",
        "\n",
        "# Select the end of the graph with slice notation:\n",
        "plt.plot(df['S4248SM144NCEN']['2017-01-01':])\n",
        "plt.plot(x,true_predictions[window_size:])\n",
        "plt.show()"
      ],
      "execution_count": null,
      "outputs": [
        {
          "output_type": "display_data",
          "data": {
            "image/png": "[encoded data removed]",
            "text/plain": [
              "<Figure size 864x288 with 1 Axes>"
            ]
          },
          "metadata": {
            "tags": [],
            "needs_background": "light"
          }
        }
      ]
    }
  ]
}